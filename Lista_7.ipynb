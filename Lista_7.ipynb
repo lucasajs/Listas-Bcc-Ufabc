{
  "nbformat": 4,
  "nbformat_minor": 0,
  "metadata": {
    "colab": {
      "name": "Lista-7.ipynb",
      "provenance": [],
      "collapsed_sections": [],
      "authorship_tag": "ABX9TyO7U0bgduRkTmPo8D2m113d",
      "include_colab_link": true
    },
    "kernelspec": {
      "name": "python3",
      "display_name": "Python 3"
    },
    "language_info": {
      "name": "python"
    }
  },
  "cells": [
    {
      "cell_type": "markdown",
      "metadata": {
        "id": "view-in-github",
        "colab_type": "text"
      },
      "source": [
        "<a href=\"https://colab.research.google.com/github/lucasajs/Listas-Bcc-Ufabc/blob/main/Lista_7.ipynb\" target=\"_parent\"><img src=\"https://colab.research.google.com/assets/colab-badge.svg\" alt=\"Open In Colab\"/></a>"
      ]
    },
    {
      "cell_type": "code",
      "metadata": {
        "id": "QBnzLnw5nBCH"
      },
      "source": [
        "#Q1\n",
        "import pandas as pd\n",
        "import numpy as np\n",
        "df= pd.read_csv('https://www.dropbox.com/s/uno2gzc5618fmxi/fake-classrooms07.csv?dl=1')\n",
        "indice_aluno= int(input())\n",
        "nome, prova1, prova2, trabalho = df[[\"Nome\",\"Prova 1\",\"Prova 2\",\"Trabalho\"]].loc[indice_aluno]\n",
        "media= np.mean([prova1, prova2, trabalho])\n",
        "print(f'Nome: {nome}')\n",
        "print(f'Prova 1: {prova1:.1f}')\n",
        "print(f'Prova 2: {prova2:.1f}')\n",
        "print(f'Trabalho: {trabalho:.1f}')\n",
        "print(f'Media: {media:.2f}')\n",
        "if media >= 6.3:\n",
        "  print('Resultado: Aprovado')\n",
        "else:\n",
        "  print('Resultado: Reprovado')\n",
        "\n"
      ],
      "execution_count": null,
      "outputs": []
    },
    {
      "cell_type": "code",
      "metadata": {
        "id": "ral0QU4y5yW_"
      },
      "source": [
        "#Q2\n",
        "import pandas as pd\n",
        "import numpy as np\n",
        "df= pd.read_csv('https://www.dropbox.com/s/f16gldxyyr4qgta/fake-classrooms-correl01.csv?dl=1')\n",
        "col1= input()\n",
        "col2= input()\n",
        "corr= df[col1].corr(df[col2])\n",
        "print(f'Correlação entre {col1} e {col2} = {corr:.2f}')\n",
        "a, b= np.polyfit(x= df[col1], y= df[col2], deg= 1)\n",
        "print(f'Equação: y= {a:.2f}x + {b:.2f}')\n",
        "x= int(input())\n",
        "if corr < 0.38:\n",
        "  print('Correlação < 0.38. Predição exibida!')\n",
        "elif corr >= 0.77:\n",
        "  y= a*x + b\n",
        "  print(f'Predição de {col1} para {col2} = {x:.2f} é {y:.2f}')\n",
        "  print('Correlação >= 0.77')\n",
        "elif corr >= 0.38 and corr < 0.77:\n",
        "  y= a*x + b\n",
        "  print(f'Predição de {col1} para {col2} = {x:.2f} é {y:.2f}')\n",
        "  print('Correlação < 0.77. Atenção com a predição!')"
      ],
      "execution_count": null,
      "outputs": []
    },
    {
      "cell_type": "code",
      "metadata": {
        "id": "BkeIhaZbHbsY"
      },
      "source": [
        "#Q3\n",
        "import pandas as pd\n",
        "import numpy as np\n",
        "df= pd.read_csv('https://www.dropbox.com/s/jqficiaig0a8aze/NotasTurmas.csv?dl=1')\n",
        "turma= input()\n",
        "media= df[turma].mean()\n",
        "mediana= df[turma].median()\n",
        "if media >= mediana:\n",
        "  print(f'{media}')\n",
        "elif media < mediana:\n",
        "  print(f'{mediana}')"
      ],
      "execution_count": null,
      "outputs": []
    },
    {
      "cell_type": "code",
      "metadata": {
        "id": "HI9Cz8XlOygs"
      },
      "source": [
        "#Q4\n",
        "import pandas as pd\n",
        "import numpy as np \n",
        "df= pd.read_csv('https://www.dropbox.com/s/z7m294onky1j2qa/fake-classrooms05.csv?dl=1')\n",
        "coluna_lida1= input()\n",
        "coluna_lida2= input()\n",
        "med1= df[coluna_lida1].mean()\n",
        "med2= df[coluna_lida2].mean()\n",
        "print(f'Media {coluna_lida1}: {med1:.2f}')\n",
        "print(f'Media {coluna_lida2}: {med2:.2f}')\n",
        "if med1 > 6.6 and med2 <= 6.5:\n",
        "  print(f'Apenas Media {coluna_lida1} eh maior que 6.6')\n",
        "elif med2 > 6.6 and med1 <= 6.5:\n",
        "  print(f'Apenas Media {coluna_lida2} eh maior que 6.6')\n",
        "elif med1 > 6.6 and med2 > 6.6:\n",
        "  print(f'As duas Medias sao maiores que 6.6')\n",
        "else:\n",
        "  print(f'Nenhuma das medias eh maior que 6.6')\n"
      ],
      "execution_count": null,
      "outputs": []
    }
  ]
}