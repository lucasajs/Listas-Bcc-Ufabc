{
  "nbformat": 4,
  "nbformat_minor": 0,
  "metadata": {
    "colab": {
      "name": "Estatística de Correlação.ipynb",
      "provenance": [],
      "collapsed_sections": [],
      "authorship_tag": "ABX9TyO7w+/JpbUoGRFX9k+dqkG9",
      "include_colab_link": true
    },
    "kernelspec": {
      "name": "python3",
      "display_name": "Python 3"
    },
    "language_info": {
      "name": "python"
    }
  },
  "cells": [
    {
      "cell_type": "markdown",
      "metadata": {
        "id": "view-in-github",
        "colab_type": "text"
      },
      "source": [
        "<a href=\"https://colab.research.google.com/github/lucasajs/Listas-Bcc-Ufabc/blob/main/Estat%C3%ADstica_de_Correla%C3%A7%C3%A3o.ipynb\" target=\"_parent\"><img src=\"https://colab.research.google.com/assets/colab-badge.svg\" alt=\"Open In Colab\"/></a>"
      ]
    },
    {
      "cell_type": "code",
      "metadata": {
        "id": "W5SI9VJH478o"
      },
      "source": [
        "#q1\n",
        "import pandas as pd\n",
        "\n",
        "df= pd.read_csv('https://www.dropbox.com/s/6s52z0tftn4pgp2/Exames4.csv?dl=1')\n",
        "choise= str(input())\n",
        "cor= df[choise].corr(df['Exame 1'])\n",
        "print(f'{cor:.2f}')"
      ],
      "execution_count": null,
      "outputs": []
    },
    {
      "cell_type": "code",
      "metadata": {
        "id": "BSn67XzoGEsr"
      },
      "source": [
        "#q2\n",
        "import pandas as pd\n",
        "import numpy as np\n",
        "\n",
        "df= pd.read_csv('https://www.dropbox.com/s/6s52z0tftn4pgp2/Exames4.csv?dl=1')\n",
        "(a, b) = np.polyfit(x= df['Exame 3'], y= df['Exame 1'], deg= 1)\n",
        "num= int(input())\n",
        "pred= a*num+b\n",
        "print(f'{pred:.2f}')"
      ],
      "execution_count": null,
      "outputs": []
    },
    {
      "cell_type": "code",
      "metadata": {
        "id": "caDnH0rnKSzM"
      },
      "source": [
        "#q3\n",
        "import pandas as pd\n",
        "\n",
        "df = pd.read_csv('https://www.dropbox.com/s/n1euyz26xczm2zj/fake-classrooms-correl15.csv?dl=1')\n",
        "choiseuser= input() #Faltas ou Horas Estudo\n",
        "ccor = df[choiseuser].corr(df['Nota Final'])\n",
        "cdet = ccor**2\n",
        "print(f'{cdet:.2f}')\n"
      ],
      "execution_count": null,
      "outputs": []
    },
    {
      "cell_type": "code",
      "metadata": {
        "id": "fuO3vLp8C97G"
      },
      "source": [
        "#q4\n",
        "import pandas as pd\n",
        "import numpy as np\n",
        "df= pd.read_csv('https://www.dropbox.com/s/g3d4mcd9f8gqkjh/fake-classrooms-correl17.csv?dl=1')\n",
        "choisestr= input()\n",
        "(a, b) = np.polyfit(x= df[choisestr], y=df['Nota Final'], deg=1)\n",
        "numfloat= float(input())\n",
        "pred= a*numfloat+b\n",
        "print(f'{pred:.2f}')\n"
      ],
      "execution_count": null,
      "outputs": []
    },
    {
      "cell_type": "code",
      "metadata": {
        "id": "gV1vebQtTJ4g"
      },
      "source": [
        "#q5\n",
        "import pandas as pd\n",
        "import numpy as np\n",
        "df= pd.read_csv('https://www.dropbox.com/s/07l7fxfyu997b4a/Exames2_versao2.csv?dl=1')\n",
        "(a, b, c)= np.polyfit(x= df['Exame 1'], y= df['Exame 2'], deg= 2)\n",
        "x = np.arange(0,100.1)\n",
        "y= a*x**2+b*x*c\n",
        "print(f'{a:.2f}')\n",
        "print(f'{b:.2f}')\n",
        "print(f'{c:.2f}')"
      ],
      "execution_count": null,
      "outputs": []
    }
  ]
}